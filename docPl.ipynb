{
 "cells": [
  {
   "cell_type": "markdown",
   "metadata": {},
   "source": [
    "# Game search - dokumentacja\n",
    "\n",
    "## Konfiguracja solr\n",
    "\n",
    "Stworzenie kolekcji."
   ]
  },
  {
   "cell_type": "code",
   "execution_count": null,
   "metadata": {
    "vscode": {
     "languageId": "powershell"
    }
   },
   "outputs": [],
   "source": [
    "solr-8.11.1/bin/solr create -c games -s 2 -rf 2"
   ]
  },
  {
   "cell_type": "markdown",
   "metadata": {},
   "source": [
    "Indeksowanie danych z grami ze steama."
   ]
  },
  {
   "cell_type": "code",
   "execution_count": null,
   "metadata": {
    "vscode": {
     "languageId": "powershell"
    }
   },
   "outputs": [],
   "source": [
    "solr-8.11.1/bin/post -c games mydata/steam_games.csv"
   ]
  },
  {
   "cell_type": "markdown",
   "metadata": {},
   "source": [
    "Po uruchomieniu *Solr*, oraz zaindeksowaniu danych należy edytować plik `solr-8.11.1/server/solr-webapp/webapp/WEB-INF/web.xml`."
   ]
  },
  {
   "cell_type": "code",
   "execution_count": null,
   "metadata": {
    "vscode": {
     "languageId": "xml"
    }
   },
   "outputs": [],
   "source": [
    "  <filter>\n",
    "    <filter-name>cross-origin</filter-name>\n",
    "    <filter-class>org.eclipse.jetty.servlets.CrossOriginFilter</filter-class>\n",
    "    <init-param>\n",
    "         <param-name>allowedOrigins</param-name>\n",
    "         <param-value>*</param-value>\n",
    "    </init-param>\n",
    "     <init-param>\n",
    "         <param-name>allowedMethods</param-name>\n",
    "         <param-value>GET,POST,DELETE,PUT,HEAD,OPTIONS</param-value>\n",
    "     </init-param>\n",
    "     <init-param>\n",
    "         <param-name>allowedHeaders</param-name>\n",
    "         <param-value>origin, content-type, cache-control, accept, options, authorization, x-requested-with</param-value>\n",
    "     </init-param>\n",
    "    <init-param>\n",
    "        <param-name>supportsCredentials</param-name>\n",
    "        <param-value>true</param-value>\n",
    "    </init-param>\n",
    "    <init-param>\n",
    "      <param-name>chainPreflight</param-name>\n",
    "      <param-value>false</param-value>\n",
    "    </init-param>\n",
    "  </filter>\n",
    "\n",
    "  <filter-mapping>\n",
    "    <filter-name>cross-origin</filter-name>\n",
    "    <url-pattern>/*</url-pattern>\n",
    "  </filter-mapping>"
   ]
  },
  {
   "cell_type": "markdown",
   "metadata": {},
   "source": [
    "Powyższe ustawienia należy dodać przed obecnym `<filter>`, dzięki temu *request* z każdego adresu będzie akceptowany przez *CORS Policy*."
   ]
  },
  {
   "cell_type": "markdown",
   "metadata": {},
   "source": [
    "## Frontend\n",
    "\n",
    "### App"
   ]
  },
  {
   "cell_type": "code",
   "execution_count": null,
   "metadata": {
    "vscode": {
     "languageId": "javascript"
    }
   },
   "outputs": [],
   "source": [
    "import React from 'react';\n",
    "import {ThemeProvider} from 'styled-components';\n",
    "import theme from '../utils/theme';\n",
    "import Article from '../components/Article';\n",
    "import Media from \"react-media\";\n",
    "import mobileRender from './mobileRender';\n",
    "import desktopRender from './desktopRender';\n",
    "import {queryAction, queryActionDesktop, setQuery} from './queryMethods';\n",
    "\n",
    "class App extends React.Component {\n",
    "  state = {\n",
    "    searchLabel: {\n",
    "      display: 'block',\n",
    "      opacity: '1'\n",
    "    },\n",
    "    documentIcon: {\n",
    "      animation: false,\n",
    "      display: 'block'\n",
    "    },\n",
    "    desktopView: {\n",
    "      aligmentY: 'center',\n",
    "      logoDisplay: 'flex',\n",
    "      miniLogoDisplay: 'none',\n",
    "      searchMaxWidth: '90vw'\n",
    "    },\n",
    "    documentIconDesktop: {\n",
    "      animation: false,\n",
    "      display: 'none'\n",
    "    },\n",
    "    queryInput: '',\n",
    "    query: '',\n",
    "    results: [],\n",
    "    api: 'http://localhost:8983/solr/games/',\n",
    "    pageNr: 1,\n",
    "    alphabetSort: false\n",
    "  }\n",
    "\n",
    "  queryAction = (e) => {\n",
    "    queryAction(this, e);\n",
    "  }\n",
    "\n",
    "  queryActionDesktop = (e) => {\n",
    "    queryActionDesktop(this, e);\n",
    "  }\n",
    "\n",
    "  setQuery = (e) => {\n",
    "    setQuery(this, e);\n",
    "  }\n",
    "\n",
    "  setAlphabetSort = (e) => {\n",
    "    this.setState({\n",
    "      alphabetSort: e.target.checked\n",
    "    });\n",
    "  }\n",
    "\n",
    "  resultsRender(prefix) {\n",
    "    let results = [];\n",
    "    let n = (this.state.pageNr - 1) * 10;\n",
    "    let resultsAlphabetSorted = this.state.results.slice();\n",
    "    resultsAlphabetSorted.sort((a, b) => a.name[0] > b.name[0] ? 1 : -1);\n",
    "    if(this.state.alphabetSort)\n",
    "      results = resultsAlphabetSorted;\n",
    "    else results = this.state.results;\n",
    "    return (\n",
    "      results.slice(n, (n + 10)).map((result, i) =>\n",
    "        <Article key={`${prefix} ${i}`} name={result.name[0]} tags={result.popular_tags[0]}\n",
    "                 describe={result.game_description[0]} \n",
    "                 date={result.release_date[0]} \n",
    "                 query={this.state.query} />)\n",
    "    );\n",
    "  }\n",
    "\n",
    "  mobileRender = () => {\n",
    "    return mobileRender(this);\n",
    "  }\n",
    "\n",
    "  desktopRender = () => {\n",
    "    return desktopRender(this);\n",
    "  }\n",
    "\n",
    "  increasePageNr = () => {\n",
    "    let resultsLen = this.state.results.length;\n",
    "    let pageCount = 0;\n",
    "    if(resultsLen % 10 == 0)\n",
    "        pageCount = Math.floor(resultsLen / 10);\n",
    "    else pageCount = Math.floor(resultsLen / 10) + 1;\n",
    "\n",
    "    if(this.state.pageNr < pageCount) {\n",
    "        let newPageNr = this.state.pageNr + 1;\n",
    "        this.setState({\n",
    "            pageNr: newPageNr\n",
    "        });\n",
    "    }\n",
    "  }\n",
    "\n",
    "  decreasePageNr = () => {\n",
    "      if(this.state.pageNr > 1) {\n",
    "          let newPageNr = this.state.pageNr - 1;\n",
    "          this.setState({\n",
    "              pageNr: newPageNr\n",
    "          });\n",
    "      }\n",
    "  }\n",
    "\n",
    "  render() {\n",
    "    return (\n",
    "      <ThemeProvider theme={theme}>\n",
    "        <Media query={theme.mobile}>\n",
    "          {this.mobileRender()}\n",
    "        </Media>\n",
    "        <Media query={theme.desktop}>\n",
    "          {this.desktopRender()}\n",
    "        </Media>\n",
    "      </ThemeProvider>\n",
    "    );\n",
    "  }\n",
    "}\n",
    "\n",
    "export default App;"
   ]
  },
  {
   "cell_type": "markdown",
   "metadata": {},
   "source": [
    "W komponencie *App.js* znajduje się główna logika *frontendu*. \n",
    "Stany `searchLabel`, `documentIcon`, `desktopView` oraz `documentIconDesktop` odpowiadają za animację i wyświetlanie elementów przed oraz po wyszukaniem frazy.  \n",
    "Metody `queryAction`, `queryActionDesktop` oraz `setQuery` zawierają logikę wyszukiwania fraz.  \n",
    "Metoda `setAlphabetSort` przestawia stan odpowiedzialny za sortowanie.  \n",
    "Metoda `resultsRender` odpowiada za wyświetlania wyników wyszukiwań.  \n",
    "Metody `mobileRender` i `desktopRender` odpowiadają odpowiednio za renderowanie po stronie mobilnej rozdzielczości oraz rozdzielczości desktop.\n",
    "Metody `increasePageNr` oraz `decreasePageNr` odpowiadają za przewijanie stron wyników wyszukiwań.\n",
    "\n",
    "### queryMethods"
   ]
  },
  {
   "cell_type": "code",
   "execution_count": null,
   "metadata": {
    "vscode": {
     "languageId": "javascript"
    }
   },
   "outputs": [],
   "source": [
    "const queryRequest = (component) => {\n",
    "    fetch(`${component.state.api}select?indent=true&q.op=OR&q=name%3A\n",
    "    \"${component.state.query}\"%20popular_tags%3A\n",
    "    \"${component.state.query}\"%20game_description%3A\"${component.state.query}\"&rows=100`)\n",
    "    .then(response => response.json())\n",
    "    .then(data => {\n",
    "      component.setState({results: data.response.docs}); \n",
    "      console.log(data.response.docs)\n",
    "    });\n",
    "  }\n",
    "  \n",
    "  const queryAction = (component, e) => {\n",
    "      e.preventDefault();\n",
    "      component.setState({\n",
    "        query: component.state.queryInput\n",
    "      });\n",
    "      setTimeout(() => {\n",
    "        component.setState({\n",
    "          searchLabel: {\n",
    "            display: 'block',\n",
    "            opacity: '0'\n",
    "          },\n",
    "          documentIcon: {\n",
    "            animation: true,\n",
    "            display: 'block'\n",
    "          }\n",
    "        });\n",
    "      }, 300);\n",
    "  \n",
    "      setTimeout(() => {\n",
    "        queryRequest(component);\n",
    "        component.setState({\n",
    "          searchLabel: {\n",
    "            display: 'none',\n",
    "            opacity: '0'\n",
    "          },\n",
    "          documentIcon: {\n",
    "            animation: false,\n",
    "            display: 'none'\n",
    "          }\n",
    "        });\n",
    "      }, 3000);\n",
    "  }\n",
    "  \n",
    "  const queryActionDesktop = (component, e) => {\n",
    "      e.preventDefault();\n",
    "      component.setState({\n",
    "        query: component.state.queryInput\n",
    "      });\n",
    "      setTimeout(() => {\n",
    "        queryRequest(component);\n",
    "        component.setState({\n",
    "          desktopView: {\n",
    "            alignmentY: 'flex-start',\n",
    "            logoDisplay: 'none',\n",
    "            miniLogoDisplay: 'flex',\n",
    "            searchMaxWidth: '70vw',\n",
    "          },\n",
    "          documentIconDesktop: {\n",
    "            animation: true,\n",
    "            display: 'block'\n",
    "          }\n",
    "        });\n",
    "      }, 300);\n",
    "  \n",
    "      setTimeout(() => {\n",
    "        component.setState({\n",
    "          documentIconDesktop: {\n",
    "            animation: false,\n",
    "            display: 'none'\n",
    "          }\n",
    "        });\n",
    "      }, 3000);\n",
    "  }\n",
    "  \n",
    "  const setQuery = (component, e) => {\n",
    "    let value = e.target.value;\n",
    "    component.setState({\n",
    "      queryInput: value\n",
    "    });\n",
    "  }\n",
    "  \n",
    "  export {queryAction, queryActionDesktop, setQuery};"
   ]
  },
  {
   "cell_type": "markdown",
   "metadata": {},
   "source": [
    "W `queryRequest` znajduje się *request* wysyłany do *solr API*.\n",
    "Implementacja `queryAction` oraz `queryActionDesktop` ustawia odpowiednio stan `query`, wywołuję metodę `queryRequest` oraz przestawia odpowiednio stany do animacji elementów.\n",
    "Metoda `setQuery` ustawia stan `queryInput`, który zmienia się na bieżąco gdy wpisujemy coś w *search input*, a stan `query` aktualizuje się dopiero gdy potwierdzimy zapytanie."
   ]
  }
 ],
 "metadata": {
  "language_info": {
   "name": "python"
  },
  "orig_nbformat": 4
 },
 "nbformat": 4,
 "nbformat_minor": 2
}
